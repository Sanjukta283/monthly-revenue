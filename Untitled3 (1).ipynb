{
  "nbformat": 4,
  "nbformat_minor": 0,
  "metadata": {
    "colab": {
      "provenance": []
    },
    "kernelspec": {
      "name": "python3",
      "display_name": "Python 3"
    },
    "language_info": {
      "name": "python"
    }
  },
  "cells": [
    {
      "cell_type": "code",
      "source": [],
      "metadata": {
        "id": "oeCe-VfMx3W0"
      },
      "execution_count": null,
      "outputs": []
    },
    {
      "cell_type": "code",
      "execution_count": 6,
      "metadata": {
        "id": "PzBzyk8uxh0X"
      },
      "outputs": [],
      "source": [
        "# prompt: insert the data '/content/Sanjukta Bera - revolutioncart_data.csv' given\n",
        "\n",
        "import pandas as pd\n",
        "\n",
        "# Assuming the file exists at the specified path\n",
        "data = pd.read_csv('/content/Sanjukta Bera - revolutioncart_data.csv')\n",
        "\n",
        "# Now you can work with the data in the 'data' DataFrame\n",
        "# For example, to print the first 5 rows:\n",
        "# print(data.head())\n"
      ]
    },
    {
      "cell_type": "code",
      "source": [
        "# prompt: show the data\n",
        "\n",
        "print(data)\n"
      ],
      "metadata": {
        "colab": {
          "base_uri": "https://localhost:8080/"
        },
        "id": "WQJ_8xXBx05k",
        "outputId": "8264da70-8c27-4dd7-c9b9-b26555677326"
      },
      "execution_count": 8,
      "outputs": [
        {
          "output_type": "stream",
          "name": "stdout",
          "text": [
            "    month_of_year  is_holiday_season  total_sku_count  average_product_rating  \\\n",
            "0               1                  0      12440.14782                3.852202   \n",
            "1               2                  0      12287.09708                3.913549   \n",
            "2               3                  0      13554.97763                4.196981   \n",
            "3               4                  0      14912.24666                4.079651   \n",
            "4               5                  0      13636.99114                3.907948   \n",
            "..            ...                ...              ...                     ...   \n",
            "79              8                  0      48028.15391                3.849764   \n",
            "80              9                  0      50277.97865                4.206576   \n",
            "81             10                  0      51336.69082                4.096457   \n",
            "82             11                  1      52939.40000                4.178313   \n",
            "83             12                  1      51425.16345                4.393259   \n",
            "\n",
            "    new_product_releases  total_customers  new_customers  \\\n",
            "0              84.081933      47489.64585    5160.112499   \n",
            "1              93.081933      56251.30704    4969.480662   \n",
            "2             115.081933      90817.67539    5090.886626   \n",
            "3             109.081933      97996.56709    5001.438910   \n",
            "4             102.081933     107164.51180    5144.330734   \n",
            "..                   ...              ...            ...   \n",
            "79             97.081933     914646.13160    4896.343635   \n",
            "80            116.081933     920519.04450    4872.669622   \n",
            "81             95.081933     942091.57200    4885.167906   \n",
            "82            123.081933     936030.24190    4860.009036   \n",
            "83            104.081933     956126.02480    5132.112499   \n",
            "\n",
            "    customer_retention_rate  average_page_load_time  \\\n",
            "0                  0.700150                2.608194   \n",
            "1                  0.688037                2.286818   \n",
            "2                  0.754210                3.525832   \n",
            "3                  0.708542                3.150905   \n",
            "4                  0.712701                2.469266   \n",
            "..                      ...                     ...   \n",
            "79                 0.750530                3.313814   \n",
            "80                 0.611198                3.095429   \n",
            "81                 0.772298                3.665897   \n",
            "82                 0.687920                3.171360   \n",
            "83                 0.674477                3.189397   \n",
            "\n",
            "    mobile_traffic_percentage  marketing_spend  email_campaign_clicks  \\\n",
            "0                   29.058984       511.429142            49856.56623   \n",
            "1                   30.154245       465.885008            50223.56623   \n",
            "2                   31.365668       479.025109            50277.56623   \n",
            "3                   27.811655       502.584885            50151.56623   \n",
            "4                   29.017549       570.747323            50143.56623   \n",
            "..                        ...              ...                    ...   \n",
            "79                  69.221499       408.749619            49841.56623   \n",
            "80                  68.397062       422.405735            50305.56623   \n",
            "81                  68.881866       578.884963            49784.56623   \n",
            "82                  71.180849       557.114784            50116.56623   \n",
            "83                  68.754119       686.487797            50048.56623   \n",
            "\n",
            "    social_media_engagement  average_shipping_time  return_rate  \\\n",
            "0               99761.50674               3.172891    10.110812   \n",
            "1              100987.33900               3.778945     8.527737   \n",
            "2              102840.02460               3.542102     9.830225   \n",
            "3              104988.90820               2.297694     9.037544   \n",
            "4              106271.30130               2.588130     9.205921   \n",
            "..                      ...                    ...          ...   \n",
            "79              94224.49718               3.055060    11.132098   \n",
            "80              95322.51064               3.362108    10.891006   \n",
            "81              96913.12322               3.120947     8.456553   \n",
            "82              98536.12846               3.352322     7.387530   \n",
            "83              99859.50674               2.622607    10.875771   \n",
            "\n",
            "    customer_support_tickets  competitor_price_index  \\\n",
            "0                1942.925744               96.840646   \n",
            "1                1994.925744              112.390933   \n",
            "2                1983.925744               96.778699   \n",
            "3                2048.925744              100.522693   \n",
            "4                2037.925744              107.310486   \n",
            "..                       ...                     ...   \n",
            "79               1993.925744               96.954673   \n",
            "80               2063.925744              103.571260   \n",
            "81               1986.925744               93.328490   \n",
            "82               2026.925744              101.067726   \n",
            "83               2015.925744               92.817028   \n",
            "\n",
            "    consumer_confidence_index  monthly_revenue  \n",
            "0                  103.301295      150622.6142  \n",
            "1                   98.280580      178125.3643  \n",
            "2                   82.485677      204916.8175  \n",
            "3                  110.284389      195806.4177  \n",
            "4                   91.291079      189544.5679  \n",
            "..                        ...              ...  \n",
            "79                  95.105332      226527.9955  \n",
            "80                 102.021833      253095.1575  \n",
            "81                  95.682981      250467.2965  \n",
            "82                 100.321605      292421.4396  \n",
            "83                 111.812970      303652.0427  \n",
            "\n",
            "[84 rows x 19 columns]\n"
          ]
        }
      ]
    },
    {
      "cell_type": "code",
      "source": [
        "# prompt: split the data in train and test data\n",
        "\n",
        "from sklearn.model_selection import train_test_split\n",
        "\n",
        "# Assuming 'data' is your DataFrame and you want to split it into features (X) and target (y)\n",
        "# Replace 'target_column' with the actual name of your target column\n",
        "# X = data.drop('target_column', axis=1)\n",
        "# y = data['target_column']\n",
        "\n",
        "\n",
        "# Split the data into training and testing sets\n",
        "# X_train, X_test, y_train, y_test = train_test_split(X, y, test_size=0.2, random_state=42)\n",
        "\n",
        "# If you don't have a specific target column and just want to split the data randomly\n",
        "train_data, test_data = train_test_split(data, test_size=0.2, random_state=42)\n",
        "\n",
        "# Print the shapes of the resulting DataFrames to verify the split\n",
        "print(\"Training data shape:\", train_data.shape)\n",
        "print(\"Testing data shape:\", test_data.shape)\n"
      ],
      "metadata": {
        "colab": {
          "base_uri": "https://localhost:8080/"
        },
        "id": "RFw7oMA-yTV-",
        "outputId": "de1d36c0-ba62-47ec-9130-426d44adb913"
      },
      "execution_count": 9,
      "outputs": [
        {
          "output_type": "stream",
          "name": "stdout",
          "text": [
            "Training data shape: (67, 19)\n",
            "Testing data shape: (17, 19)\n"
          ]
        }
      ]
    },
    {
      "cell_type": "code",
      "source": [
        "# prompt: consider 'monthly_revenue' as y train nad the rest as X\n",
        "\n",
        "X = data.drop('monthly_revenue', axis=1)\n",
        "y = data['monthly_revenue']\n",
        "\n",
        "X_train, X_test, y_train, y_test = train_test_split(X, y, test_size=0.2, random_state=42)\n",
        "\n",
        "print(\"X_train shape:\", X_train.shape)\n",
        "print(\"X_test shape:\", X_test.shape)\n",
        "print(\"y_train shape:\", y_train.shape)\n",
        "print(\"y_test shape:\", y_test.shape)\n"
      ],
      "metadata": {
        "colab": {
          "base_uri": "https://localhost:8080/"
        },
        "id": "qEiN2iaDytJO",
        "outputId": "b8cc3e73-9e59-4580-f50d-98ad80923ead"
      },
      "execution_count": 11,
      "outputs": [
        {
          "output_type": "stream",
          "name": "stdout",
          "text": [
            "X_train shape: (67, 18)\n",
            "X_test shape: (17, 18)\n",
            "y_train shape: (67,)\n",
            "y_test shape: (17,)\n"
          ]
        }
      ]
    },
    {
      "cell_type": "code",
      "source": [
        "# prompt: make a SVM fron the given X_train and _train\n",
        "\n",
        "from sklearn.svm import SVR\n",
        "from sklearn.preprocessing import StandardScaler\n",
        "\n",
        "# Create an SVR model\n",
        "model = SVR(kernel='linear')  # You can choose different kernels like 'rbf', 'poly', etc.\n",
        "\n",
        "# Scale the data for better performance (optional but recommended)\n",
        "scaler = StandardScaler()\n",
        "X_train_scaled = scaler.fit_transform(X_train)\n",
        "X_test_scaled = scaler.transform(X_test)\n",
        "\n",
        "# Train the model\n",
        "model.fit(X_train_scaled, y_train)\n",
        "\n",
        "# Make predictions on the test data\n",
        "y_pred = model.predict(X_test_scaled)\n",
        "\n",
        "# You can now evaluate the model's performance using metrics like R-squared, Mean Squared Error, etc.\n"
      ],
      "metadata": {
        "id": "ayJdSkK9y8qG"
      },
      "execution_count": 13,
      "outputs": []
    },
    {
      "cell_type": "code",
      "source": [
        "# prompt: what is the accuracy score of the given model\n",
        "\n",
        "from sklearn.metrics import r2_score\n",
        "\n",
        "# Calculate the R-squared score\n",
        "r2 = r2_score(y_test, y_pred)\n",
        "\n",
        "print(\"R-squared score:\", r2)\n"
      ],
      "metadata": {
        "colab": {
          "base_uri": "https://localhost:8080/"
        },
        "id": "spJIxomczL8J",
        "outputId": "7a1e2550-4a47-46a8-b9eb-fb3a66750f89"
      },
      "execution_count": 25,
      "outputs": [
        {
          "output_type": "stream",
          "name": "stdout",
          "text": [
            "R-squared score: -0.020771147392843803\n"
          ]
        }
      ]
    },
    {
      "cell_type": "code",
      "source": [
        "# prompt: make a DT model from the given X_train and y_train data\n",
        "\n",
        "from sklearn.tree import DecisionTreeRegressor\n",
        "\n",
        "# Create a Decision Tree Regression model\n",
        "dt_model = DecisionTreeRegressor(random_state=42)  # You can customize hyperparameters here\n",
        "\n",
        "# Train the model\n",
        "dt_model.fit(X_train, y_train)\n",
        "\n",
        "# Make predictions on the test data\n",
        "y_pred_dt = dt_model.predict(X_test)\n",
        "\n",
        "# Evaluate the model's performance (similar to SVR)\n",
        "mse_dt = mean_squared_error(y_test, y_pred_dt)\n",
        "print(\"Decision Tree Mean Squared Error:\", mse_dt)\n",
        "\n",
        "r2_dt = r2_score(y_test, y_pred_dt)\n",
        "print(\"Decision Tree R-squared:\", r2_dt)\n"
      ],
      "metadata": {
        "colab": {
          "base_uri": "https://localhost:8080/"
        },
        "id": "Z-CQd7JHzRq3",
        "outputId": "47d22f19-d448-41cc-a4c5-6e598784fc8c"
      },
      "execution_count": 15,
      "outputs": [
        {
          "output_type": "stream",
          "name": "stdout",
          "text": [
            "Decision Tree Mean Squared Error: 578647293.3071427\n",
            "Decision Tree R-squared: 0.2790319106049137\n"
          ]
        }
      ]
    },
    {
      "cell_type": "code",
      "source": [
        "# prompt: what is the accuracy of the given DT model\n",
        "\n",
        "# Assuming y_test and y_pred_dt are your true and predicted values\n",
        "from sklearn.metrics import accuracy_score\n",
        "\n",
        "# Convert regression predictions to binary classification (e.g., above/below average revenue)\n",
        "threshold = y_train.mean()  # Or choose another relevant threshold\n",
        "y_pred_dt_binary = [1 if pred > threshold else 0 for pred in y_pred_dt]\n",
        "y_test_binary = [1 if true > threshold else 0 for true in y_test]\n",
        "\n",
        "\n",
        "# Calculate the accuracy of the model\n",
        "accuracy = accuracy_score(y_test_binary, y_pred_dt_binary)\n",
        "print(\"Decision Tree Accuracy:\", accuracy)\n",
        "\n"
      ],
      "metadata": {
        "colab": {
          "base_uri": "https://localhost:8080/"
        },
        "id": "mRzpoGr_0UkC",
        "outputId": "2891a33e-fa7e-4586-d658-e87775124abf"
      },
      "execution_count": 20,
      "outputs": [
        {
          "output_type": "stream",
          "name": "stdout",
          "text": [
            "Decision Tree Accuracy: 0.7058823529411765\n"
          ]
        }
      ]
    },
    {
      "cell_type": "code",
      "source": [
        "# prompt: do cross val the scores for the given DT model\n",
        "\n",
        "from sklearn.model_selection import cross_val_score\n",
        "\n",
        "# Assuming dt_model is your Decision Tree Regression model\n",
        "# and X and y are your feature matrix and target variable\n",
        "\n",
        "# Perform cross-validation with 5 folds (you can change this)\n",
        "cv_scores = cross_val_score(dt_model, X, y, cv=5, scoring='r2')\n",
        "\n",
        "# Print the cross-validation scores\n",
        "print(\"Cross-Validation Scores (R-squared):\", cv_scores)\n",
        "\n",
        "# Calculate and print the mean and standard deviation of the scores\n",
        "print(\"Mean R-squared:\", cv_scores.mean())\n",
        "print(\"Standard Deviation:\", cv_scores.std())\n"
      ],
      "metadata": {
        "colab": {
          "base_uri": "https://localhost:8080/"
        },
        "id": "KFw1rwCYze2x",
        "outputId": "36ab6cd9-7d4b-4c2c-ba04-31f26d7b58d2"
      },
      "execution_count": 21,
      "outputs": [
        {
          "output_type": "stream",
          "name": "stdout",
          "text": [
            "Cross-Validation Scores (R-squared): [-1.77541304  0.44382471 -0.34079827 -0.04386645  0.05095466]\n",
            "Mean R-squared: -0.333059680163414\n",
            "Standard Deviation: 0.7635564400409761\n"
          ]
        }
      ]
    },
    {
      "cell_type": "code",
      "source": [
        "# prompt: make knm model for the given X_train and y_train and give the accuracy score\n",
        "\n",
        "from sklearn.neighbors import KNeighborsRegressor\n",
        "from sklearn.metrics import mean_squared_error, r2_score\n",
        "\n",
        "# Create a KNN model\n",
        "knn_model = KNeighborsRegressor(n_neighbors=5)  # You can adjust the number of neighbors\n",
        "\n",
        "# Train the model\n",
        "knn_model.fit(X_train, y_train)\n",
        "\n",
        "# Make predictions on the test data\n",
        "y_pred_knn = knn_model.predict(X_test)\n",
        "\n",
        "# Evaluate the model's performance\n",
        "mse_knn = mean_squared_error(y_test, y_pred_knn)\n",
        "print(\"KNN Mean Squared Error:\", mse_knn)\n",
        "\n",
        "r2_knn = r2_score(y_test, y_pred_knn)\n",
        "print(\"KNN R-squared:\", r2_knn)\n",
        "\n",
        "# Convert regression predictions to binary classification\n",
        "threshold = y_train.mean()\n",
        "y_pred_knn_binary = [1 if pred > threshold else 0 for pred in y_pred_knn]\n",
        "y_test_binary = [1 if true > threshold else 0 for true in y_test]\n",
        "\n",
        "# Calculate the accuracy of the model\n",
        "accuracy_knn = accuracy_score(y_test_binary, y_pred_knn_binary)\n",
        "print(\"KNN Accuracy:\", accuracy_knn)\n"
      ],
      "metadata": {
        "colab": {
          "base_uri": "https://localhost:8080/"
        },
        "id": "EIBnWNzHz5ay",
        "outputId": "5bb9a001-ac38-49bd-d7fb-bd314009058f"
      },
      "execution_count": 23,
      "outputs": [
        {
          "output_type": "stream",
          "name": "stdout",
          "text": [
            "KNN Mean Squared Error: 568123558.606638\n",
            "KNN R-squared: 0.2921440032182916\n",
            "KNN Accuracy: 0.5294117647058824\n"
          ]
        }
      ]
    },
    {
      "cell_type": "code",
      "source": [
        "# prompt: do cross val for the accuracy scores of the given knm model\n",
        "\n",
        "# Assuming knn_model is your KNN model and X and y are your feature matrix and target variable\n",
        "\n",
        "# Convert regression predictions to binary classification for cross-validation\n",
        "def evaluate_knn_accuracy(model, X, y):\n",
        "  y_pred = model.predict(X)\n",
        "  threshold = y.mean()\n",
        "  y_pred_binary = [1 if pred > threshold else 0 for pred in y_pred]\n",
        "  y_binary = [1 if true > threshold else 0 for true in y]\n",
        "  return accuracy_score(y_binary, y_pred_binary)\n",
        "\n",
        "\n",
        "# Perform cross-validation with 5 folds (you can change this)\n",
        "cv_scores_accuracy = cross_val_score(knn_model, X, y, cv=5, scoring=evaluate_knn_accuracy)\n",
        "\n",
        "# Print the cross-validation scores for accuracy\n",
        "print(\"Cross-Validation Scores (Accuracy):\", cv_scores_accuracy)\n",
        "\n",
        "# Calculate and print the mean and standard deviation of the accuracy scores\n",
        "print(\"Mean Accuracy:\", cv_scores_accuracy.mean())\n",
        "print(\"Standard Deviation:\", cv_scores_accuracy.std())\n"
      ],
      "metadata": {
        "colab": {
          "base_uri": "https://localhost:8080/"
        },
        "id": "-eGUmFMA1LOY",
        "outputId": "552823f9-9b58-4fcf-8832-2ad325b7b024"
      },
      "execution_count": 28,
      "outputs": [
        {
          "output_type": "stream",
          "name": "stdout",
          "text": [
            "Cross-Validation Scores (Accuracy): [0.35294118 0.41176471 0.47058824 0.41176471 0.5625    ]\n",
            "Mean Accuracy: 0.44191176470588234\n",
            "Standard Deviation: 0.07084817335556415\n"
          ]
        }
      ]
    },
    {
      "cell_type": "code",
      "source": [
        "# prompt: make random forest model for the given X_train and y_train data and also give the accuracy score for the random forest model\n",
        "\n",
        "from sklearn.ensemble import RandomForestRegressor\n",
        "\n",
        "# Create a Random Forest Regression model\n",
        "rf_model = RandomForestRegressor(n_estimators=100, random_state=42)  # You can adjust hyperparameters like n_estimators\n",
        "\n",
        "# Train the model\n",
        "rf_model.fit(X_train, y_train)\n",
        "\n",
        "# Make predictions on the test data\n",
        "y_pred_rf = rf_model.predict(X_test)\n",
        "\n",
        "# Evaluate the model's performance\n",
        "mse_rf = mean_squared_error(y_test, y_pred_rf)\n",
        "print(\"Random Forest Mean Squared Error:\", mse_rf)\n",
        "\n",
        "r2_rf = r2_score(y_test, y_pred_rf)\n",
        "print(\"Random Forest R-squared:\", r2_rf)\n",
        "\n",
        "# Convert regression predictions to binary classification\n",
        "threshold = y_train.mean()\n",
        "y_pred_rf_binary = [1 if pred > threshold else 0 for pred in y_pred_rf]\n",
        "y_test_binary = [1 if true > threshold else 0 for true in y_test]\n",
        "\n",
        "# Calculate the accuracy of the model\n",
        "accuracy_rf = accuracy_score(y_test_binary, y_pred_rf_binary)\n",
        "print(\"Random Forest Accuracy:\", accuracy_rf)\n"
      ],
      "metadata": {
        "colab": {
          "base_uri": "https://localhost:8080/"
        },
        "id": "Lt9KGml10tCt",
        "outputId": "81c9377f-e34a-45ae-9996-a94ab8316255"
      },
      "execution_count": 24,
      "outputs": [
        {
          "output_type": "stream",
          "name": "stdout",
          "text": [
            "Random Forest Mean Squared Error: 361654007.77566046\n",
            "Random Forest R-squared: 0.5493956300773817\n",
            "Random Forest Accuracy: 0.6470588235294118\n"
          ]
        }
      ]
    },
    {
      "cell_type": "code",
      "source": [
        "# prompt: do cross val for the accuracy scores of the given random forest model\n",
        "\n",
        "# Assuming rf_model is your Random Forest model and X and y are your feature matrix and target variable\n",
        "\n",
        "# Convert regression predictions to binary classification for cross-validation\n",
        "def evaluate_rf_accuracy(model, X, y):\n",
        "  y_pred = model.predict(X)\n",
        "  threshold = y.mean()\n",
        "  y_pred_binary = [1 if pred > threshold else 0 for pred in y_pred]\n",
        "  y_binary = [1 if true > threshold else 0 for true in y]\n",
        "  return accuracy_score(y_binary, y_pred_binary)\n",
        "\n",
        "\n",
        "# Perform cross-validation with 5 folds (you can change this)\n",
        "cv_scores_accuracy_rf = cross_val_score(rf_model, X, y, cv=5, scoring=evaluate_rf_accuracy)\n",
        "\n",
        "# Print the cross-validation scores for accuracy\n",
        "print(\"Cross-Validation Scores (Accuracy) for Random Forest:\", cv_scores_accuracy_rf)\n",
        "\n",
        "# Calculate and print the mean and standard deviation of the accuracy scores\n",
        "print(\"Mean Accuracy for Random Forest:\", cv_scores_accuracy_rf.mean())\n",
        "print(\"Standard Deviation for Random Forest:\", cv_scores_accuracy_rf.std())\n"
      ],
      "metadata": {
        "colab": {
          "base_uri": "https://localhost:8080/"
        },
        "id": "uYrWrpgQzvxZ",
        "outputId": "1a2c1ba5-7a2d-4846-e0d7-2b32b8122c50"
      },
      "execution_count": 29,
      "outputs": [
        {
          "output_type": "stream",
          "name": "stdout",
          "text": [
            "Cross-Validation Scores (Accuracy) for Random Forest: [0.52941176 0.82352941 0.94117647 0.76470588 0.625     ]\n",
            "Mean Accuracy for Random Forest: 0.7367647058823529\n",
            "Standard Deviation for Random Forest: 0.1453131685533603\n"
          ]
        }
      ]
    },
    {
      "cell_type": "code",
      "source": [
        "# prompt: make BaggingRegressor for the given X_train and y_train data using SVN, DT, KNN models and also give the accuracy scores of the bagging model suggested\n",
        "\n",
        "from sklearn.ensemble import BaggingRegressor\n",
        "from sklearn.metrics import accuracy_score\n",
        "\n",
        "# Create individual models for bagging\n",
        "svr_model = SVR(kernel='linear')\n",
        "dt_model = DecisionTreeRegressor(random_state=42)\n",
        "knn_model = KNeighborsRegressor(n_neighbors=5)\n",
        "\n",
        "# Create a BaggingRegressor with the models and n_estimators\n",
        "bagging_model = BaggingRegressor(\n",
        "    estimator=None,  # Can use None if you want the model to decide (e.g., try all of them)\n",
        "    n_estimators=10,  # Number of base models to create\n",
        "    random_state=42  # Set a random seed for reproducibility\n",
        ")\n",
        "\n",
        "# Train the bagging model\n",
        "bagging_model.fit(X_train, y_train)\n",
        "\n",
        "# Make predictions on the test data\n",
        "y_pred_bagging = bagging_model.predict(X_test)\n",
        "\n",
        "# Evaluate the model's performance\n",
        "mse_bagging = mean_squared_error(y_test, y_pred_bagging)\n",
        "print(\"Bagging Mean Squared Error:\", mse_bagging)\n",
        "\n",
        "r2_bagging = r2_score(y_test, y_pred_bagging)\n",
        "print(\"Bagging R-squared:\", r2_bagging)\n",
        "\n",
        "# Convert regression predictions to binary classification\n",
        "threshold = y_train.mean()\n",
        "y_pred_bagging_binary = [1 if pred > threshold else 0 for pred in y_pred_bagging]\n",
        "y_test_binary = [1 if true > threshold else 0 for true in y_test]\n",
        "\n",
        "# Calculate the accuracy of the model\n",
        "accuracy_bagging = accuracy_score(y_test_binary, y_pred_bagging_binary)\n",
        "print(\"Bagging Accuracy:\", accuracy_bagging)\n"
      ],
      "metadata": {
        "colab": {
          "base_uri": "https://localhost:8080/"
        },
        "id": "S37eR-eS1qvx",
        "outputId": "0299ded2-4c4c-4784-e194-419320cdb9bb"
      },
      "execution_count": 34,
      "outputs": [
        {
          "output_type": "stream",
          "name": "stdout",
          "text": [
            "Bagging Mean Squared Error: 353561644.7567346\n",
            "Bagging R-squared: 0.559478344663501\n",
            "Bagging Accuracy: 0.6470588235294118\n"
          ]
        }
      ]
    },
    {
      "cell_type": "code",
      "source": [
        "# prompt: do cross val for the given bagging model\n",
        "\n",
        "# Assuming bagging_model is your BaggingRegressor model and X and y are your feature matrix and target variable\n",
        "\n",
        "# Convert regression predictions to binary classification for cross-validation\n",
        "def evaluate_bagging_accuracy(model, X, y):\n",
        "  y_pred = model.predict(X)\n",
        "  threshold = y.mean()\n",
        "  y_pred_binary = [1 if pred > threshold else 0 for pred in y_pred]\n",
        "  y_binary = [1 if true > threshold else 0 for true in y]\n",
        "  return accuracy_score(y_binary, y_pred_binary)\n",
        "\n",
        "\n",
        "# Perform cross-validation with 5 folds (you can change this)\n",
        "cv_scores_accuracy_bagging = cross_val_score(bagging_model, X, y, cv=5, scoring=evaluate_bagging_accuracy)\n",
        "\n",
        "# Print the cross-validation scores for accuracy\n",
        "print(\"Cross-Validation Scores (Accuracy) for Bagging:\", cv_scores_accuracy_bagging)\n",
        "\n",
        "# Calculate and print the mean and standard deviation of the accuracy scores\n",
        "print(\"Mean Accuracy for Bagging:\", cv_scores_accuracy_bagging.mean())\n",
        "print(\"Standard Deviation for Bagging:\", cv_scores_accuracy_bagging.std())\n"
      ],
      "metadata": {
        "colab": {
          "base_uri": "https://localhost:8080/"
        },
        "id": "nBncAk5F24LA",
        "outputId": "1a1d64e4-a2eb-497c-c663-cf940a4e8cfe"
      },
      "execution_count": 35,
      "outputs": [
        {
          "output_type": "stream",
          "name": "stdout",
          "text": [
            "Cross-Validation Scores (Accuracy) for Bagging: [0.70588235 0.76470588 0.82352941 0.64705882 0.625     ]\n",
            "Mean Accuracy for Bagging: 0.713235294117647\n",
            "Standard Deviation for Bagging: 0.07352941176470586\n"
          ]
        }
      ]
    },
    {
      "cell_type": "code",
      "source": [
        "# prompt: make a boosting model for the given X_train data nad y_train data\n",
        "\n",
        "from sklearn.ensemble import GradientBoostingRegressor\n",
        "\n",
        "# Create a Gradient Boosting Regression model\n",
        "gb_model = GradientBoostingRegressor(n_estimators=100, learning_rate=0.1, random_state=42)\n",
        "\n",
        "# Train the model\n",
        "gb_model.fit(X_train, y_train)\n",
        "\n",
        "# Make predictions on the test data\n",
        "y_pred_gb = gb_model.predict(X_test)\n",
        "\n",
        "# Evaluate the model's performance\n",
        "mse_gb = mean_squared_error(y_test, y_pred_gb)\n",
        "print(\"Gradient Boosting Mean Squared Error:\", mse_gb)\n",
        "\n",
        "r2_gb = r2_score(y_test, y_pred_gb)\n",
        "print(\"Gradient Boosting R-squared:\", r2_gb)\n",
        "\n",
        "# Convert regression predictions to binary classification\n",
        "threshold = y_train.mean()\n",
        "y_pred_gb_binary = [1 if pred > threshold else 0 for pred in y_pred_gb]\n",
        "y_test_binary = [1 if true > threshold else 0 for true in y_test]\n",
        "\n",
        "# Calculate the accuracy of the model\n",
        "accuracy_gb = accuracy_score(y_test_binary, y_pred_gb_binary)\n",
        "print(\"Gradient Boosting Accuracy:\", accuracy_gb)\n",
        "\n",
        "\n",
        "# Assuming gb_model is your Gradient Boosting model and X and y are your feature matrix and target variable\n",
        "\n",
        "# Convert regression predictions to binary classification for cross-validation\n",
        "def evaluate_gb_accuracy(model, X, y):\n",
        "  y_pred = model.predict(X)\n",
        "  threshold = y.mean()\n",
        "  y_pred_binary = [1 if pred > threshold else 0 for pred in y_pred]\n",
        "  y_binary = [1 if true > threshold else 0 for true in y]\n",
        "  return accuracy_score(y_binary, y_pred_binary)\n",
        "\n",
        "\n",
        "# Perform cross-validation with 5 folds (you can change this)\n",
        "cv_scores_accuracy_gb = cross_val_score(gb_model, X, y, cv=5, scoring=evaluate_gb_accuracy)\n",
        "\n",
        "# Print the cross-validation scores for accuracy\n",
        "print(\"Cross-Validation Scores (Accuracy) for Gradient Boosting:\", cv_scores_accuracy_gb)\n",
        "\n",
        "# Calculate and print the mean and standard deviation of the accuracy scores\n",
        "print(\"Mean Accuracy for Gradient Boosting:\", cv_scores_accuracy_gb.mean())\n",
        "print(\"Standard Deviation for Gradient Boosting:\", cv_scores_accuracy_gb.std())\n"
      ],
      "metadata": {
        "colab": {
          "base_uri": "https://localhost:8080/"
        },
        "id": "EbQArbc-3C8G",
        "outputId": "793c1152-635d-4545-a1e2-463dcae78cd0"
      },
      "execution_count": 36,
      "outputs": [
        {
          "output_type": "stream",
          "name": "stdout",
          "text": [
            "Gradient Boosting Mean Squared Error: 317367021.2655824\n",
            "Gradient Boosting R-squared: 0.6045751918217221\n",
            "Gradient Boosting Accuracy: 0.6470588235294118\n",
            "Cross-Validation Scores (Accuracy) for Gradient Boosting: [0.64705882 0.82352941 0.82352941 0.76470588 0.6875    ]\n",
            "Mean Accuracy for Gradient Boosting: 0.7492647058823529\n",
            "Standard Deviation for Gradient Boosting: 0.07145606243091963\n"
          ]
        }
      ]
    },
    {
      "cell_type": "code",
      "source": [],
      "metadata": {
        "id": "po-HIjjZ3NKi"
      },
      "execution_count": null,
      "outputs": []
    }
  ]
}